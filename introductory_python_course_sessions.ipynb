{
  "nbformat": 4,
  "nbformat_minor": 0,
  "metadata": {
    "colab": {
      "provenance": []
    },
    "kernelspec": {
      "name": "python3",
      "display_name": "Python 3"
    },
    "language_info": {
      "name": "python"
    }
  },
  "cells": [
    {
      "cell_type": "code",
      "execution_count": null,
      "metadata": {
        "id": "GUcMsjIwnZ3C"
      },
      "outputs": [],
      "source": [
        "import numpy as np"
      ]
    },
    {
      "cell_type": "code",
      "source": [
        "a = np.ones((3, 2), dtype=np.uint8)\n",
        "a"
      ],
      "metadata": {
        "colab": {
          "base_uri": "https://localhost:8080/"
        },
        "id": "VwgEMwV1q4kG",
        "outputId": "cb447eeb-be93-4116-fcdb-d61162650689"
      },
      "execution_count": null,
      "outputs": [
        {
          "output_type": "execute_result",
          "data": {
            "text/plain": [
              "array([[1, 1],\n",
              "       [1, 1],\n",
              "       [1, 1]], dtype=uint8)"
            ]
          },
          "metadata": {},
          "execution_count": 4
        }
      ]
    },
    {
      "cell_type": "code",
      "source": [
        "d = np.full((3, 3), 6)\n",
        "d"
      ],
      "metadata": {
        "colab": {
          "base_uri": "https://localhost:8080/"
        },
        "id": "whsfe3b_1MWm",
        "outputId": "7cf3f835-0adc-4242-d3d2-900adaf0c421"
      },
      "execution_count": null,
      "outputs": [
        {
          "output_type": "execute_result",
          "data": {
            "text/plain": [
              "array([[6, 6, 6],\n",
              "       [6, 6, 6],\n",
              "       [6, 6, 6]])"
            ]
          },
          "metadata": {},
          "execution_count": 5
        }
      ]
    },
    {
      "cell_type": "code",
      "source": [
        "b = np.zeros ((3, 2), dtype=np.uint8)\n",
        "b"
      ],
      "metadata": {
        "colab": {
          "base_uri": "https://localhost:8080/"
        },
        "id": "f43C-K_C1c2K",
        "outputId": "4f094272-55ba-4567-cbd8-3346e917ed3c"
      },
      "execution_count": null,
      "outputs": [
        {
          "output_type": "execute_result",
          "data": {
            "text/plain": [
              "array([[0, 0],\n",
              "       [0, 0],\n",
              "       [0, 0]], dtype=uint8)"
            ]
          },
          "metadata": {},
          "execution_count": 6
        }
      ]
    },
    {
      "cell_type": "code",
      "source": [
        "c = np.array([1, 2, 3, 4, 5, 10, 8])\n",
        "c"
      ],
      "metadata": {
        "colab": {
          "base_uri": "https://localhost:8080/"
        },
        "id": "6aHACMJG1y9Y",
        "outputId": "af69a02e-bd06-43e9-ca15-ac89afc9d538"
      },
      "execution_count": null,
      "outputs": [
        {
          "output_type": "execute_result",
          "data": {
            "text/plain": [
              "array([ 1,  2,  3,  4,  5, 10,  8])"
            ]
          },
          "metadata": {},
          "execution_count": 7
        }
      ]
    },
    {
      "cell_type": "code",
      "source": [
        "arr = np.array([[1, 2, 3, 4, 5, 10, 8],\n",
        "               [1, 2, 3, 4, 5, 10, 8]])\n",
        "arr"
      ],
      "metadata": {
        "colab": {
          "base_uri": "https://localhost:8080/"
        },
        "id": "IIffji3R2IKV",
        "outputId": "3f1bb224-729d-4120-97a4-3b2b0c7ec5da"
      },
      "execution_count": null,
      "outputs": [
        {
          "output_type": "execute_result",
          "data": {
            "text/plain": [
              "array([[ 1,  2,  3,  4,  5, 10,  8],\n",
              "       [ 1,  2,  3,  4,  5, 10,  8]])"
            ]
          },
          "metadata": {},
          "execution_count": 11
        }
      ]
    },
    {
      "cell_type": "code",
      "source": [
        "reshape_arr = arr.reshape(2, 3,4)\n",
        "reshape_arr"
      ],
      "metadata": {
        "colab": {
          "base_uri": "https://localhost:8080/",
          "height": 184
        },
        "id": "bxcszJZe24yy",
        "outputId": "a0e35e42-18e8-4831-ead6-7b2113fdc02f"
      },
      "execution_count": null,
      "outputs": [
        {
          "output_type": "error",
          "ename": "ValueError",
          "evalue": "ignored",
          "traceback": [
            "\u001b[0;31m---------------------------------------------------------------------------\u001b[0m",
            "\u001b[0;31mValueError\u001b[0m                                Traceback (most recent call last)",
            "\u001b[0;32m<ipython-input-14-81ffff7dfb83>\u001b[0m in \u001b[0;36m<cell line: 1>\u001b[0;34m()\u001b[0m\n\u001b[0;32m----> 1\u001b[0;31m \u001b[0mreshape_arr\u001b[0m \u001b[0;34m=\u001b[0m \u001b[0marr\u001b[0m\u001b[0;34m.\u001b[0m\u001b[0mreshape\u001b[0m\u001b[0;34m(\u001b[0m\u001b[0;36m2\u001b[0m\u001b[0;34m,\u001b[0m \u001b[0;36m3\u001b[0m\u001b[0;34m,\u001b[0m\u001b[0;36m4\u001b[0m\u001b[0;34m)\u001b[0m\u001b[0;34m\u001b[0m\u001b[0;34m\u001b[0m\u001b[0m\n\u001b[0m\u001b[1;32m      2\u001b[0m \u001b[0mreshape_arr\u001b[0m\u001b[0;34m\u001b[0m\u001b[0;34m\u001b[0m\u001b[0m\n",
            "\u001b[0;31mValueError\u001b[0m: cannot reshape array of size 14 into shape (2,3,4)"
          ]
        }
      ]
    },
    {
      "cell_type": "code",
      "source": [
        "import numpy as np\n",
        "import pandas as pd\n",
        "\n",
        "data = np.array([[10, 20, 30],\n",
        "                 [40, 50, 60],\n",
        "                 [70, 80, 90]])\n",
        "\n",
        "dataFrame = pd.DataFrame(data, columns=['Col1', 'Col2', 'Col3'], index=[\"Row1\", \"Row2\", \"Row3\"])\n",
        "\n",
        "dataFrame.iloc[2] =  0\n",
        "dataFrame = dataFrame.T\n",
        "dataFrame\n"
      ],
      "metadata": {
        "id": "4LKnMl882N13",
        "colab": {
          "base_uri": "https://localhost:8080/",
          "height": 143
        },
        "outputId": "acfee8c1-e8aa-4452-e221-542f25bb470c"
      },
      "execution_count": null,
      "outputs": [
        {
          "output_type": "execute_result",
          "data": {
            "text/plain": [
              "      Col1  Col2  Col3\n",
              "Row1    10    20    30\n",
              "Row2    40    50    60\n",
              "Row3     0     0     0"
            ],
            "text/html": [
              "\n",
              "\n",
              "  <div id=\"df-89a09842-8a72-4ff2-93aa-6ac32984f403\">\n",
              "    <div class=\"colab-df-container\">\n",
              "      <div>\n",
              "<style scoped>\n",
              "    .dataframe tbody tr th:only-of-type {\n",
              "        vertical-align: middle;\n",
              "    }\n",
              "\n",
              "    .dataframe tbody tr th {\n",
              "        vertical-align: top;\n",
              "    }\n",
              "\n",
              "    .dataframe thead th {\n",
              "        text-align: right;\n",
              "    }\n",
              "</style>\n",
              "<table border=\"1\" class=\"dataframe\">\n",
              "  <thead>\n",
              "    <tr style=\"text-align: right;\">\n",
              "      <th></th>\n",
              "      <th>Col1</th>\n",
              "      <th>Col2</th>\n",
              "      <th>Col3</th>\n",
              "    </tr>\n",
              "  </thead>\n",
              "  <tbody>\n",
              "    <tr>\n",
              "      <th>Row1</th>\n",
              "      <td>10</td>\n",
              "      <td>20</td>\n",
              "      <td>30</td>\n",
              "    </tr>\n",
              "    <tr>\n",
              "      <th>Row2</th>\n",
              "      <td>40</td>\n",
              "      <td>50</td>\n",
              "      <td>60</td>\n",
              "    </tr>\n",
              "    <tr>\n",
              "      <th>Row3</th>\n",
              "      <td>0</td>\n",
              "      <td>0</td>\n",
              "      <td>0</td>\n",
              "    </tr>\n",
              "  </tbody>\n",
              "</table>\n",
              "</div>\n",
              "      <button class=\"colab-df-convert\" onclick=\"convertToInteractive('df-89a09842-8a72-4ff2-93aa-6ac32984f403')\"\n",
              "              title=\"Convert this dataframe to an interactive table.\"\n",
              "              style=\"display:none;\">\n",
              "\n",
              "  <svg xmlns=\"http://www.w3.org/2000/svg\" height=\"24px\"viewBox=\"0 0 24 24\"\n",
              "       width=\"24px\">\n",
              "    <path d=\"M0 0h24v24H0V0z\" fill=\"none\"/>\n",
              "    <path d=\"M18.56 5.44l.94 2.06.94-2.06 2.06-.94-2.06-.94-.94-2.06-.94 2.06-2.06.94zm-11 1L8.5 8.5l.94-2.06 2.06-.94-2.06-.94L8.5 2.5l-.94 2.06-2.06.94zm10 10l.94 2.06.94-2.06 2.06-.94-2.06-.94-.94-2.06-.94 2.06-2.06.94z\"/><path d=\"M17.41 7.96l-1.37-1.37c-.4-.4-.92-.59-1.43-.59-.52 0-1.04.2-1.43.59L10.3 9.45l-7.72 7.72c-.78.78-.78 2.05 0 2.83L4 21.41c.39.39.9.59 1.41.59.51 0 1.02-.2 1.41-.59l7.78-7.78 2.81-2.81c.8-.78.8-2.07 0-2.86zM5.41 20L4 18.59l7.72-7.72 1.47 1.35L5.41 20z\"/>\n",
              "  </svg>\n",
              "      </button>\n",
              "\n",
              "\n",
              "\n",
              "    <div id=\"df-3a3827cf-5b23-4da2-b496-9b63be1436b9\">\n",
              "      <button class=\"colab-df-quickchart\" onclick=\"quickchart('df-3a3827cf-5b23-4da2-b496-9b63be1436b9')\"\n",
              "              title=\"Suggest charts.\"\n",
              "              style=\"display:none;\">\n",
              "\n",
              "<svg xmlns=\"http://www.w3.org/2000/svg\" height=\"24px\"viewBox=\"0 0 24 24\"\n",
              "     width=\"24px\">\n",
              "    <g>\n",
              "        <path d=\"M19 3H5c-1.1 0-2 .9-2 2v14c0 1.1.9 2 2 2h14c1.1 0 2-.9 2-2V5c0-1.1-.9-2-2-2zM9 17H7v-7h2v7zm4 0h-2V7h2v10zm4 0h-2v-4h2v4z\"/>\n",
              "    </g>\n",
              "</svg>\n",
              "      </button>\n",
              "    </div>\n",
              "\n",
              "<style>\n",
              "  .colab-df-quickchart {\n",
              "    background-color: #E8F0FE;\n",
              "    border: none;\n",
              "    border-radius: 50%;\n",
              "    cursor: pointer;\n",
              "    display: none;\n",
              "    fill: #1967D2;\n",
              "    height: 32px;\n",
              "    padding: 0 0 0 0;\n",
              "    width: 32px;\n",
              "  }\n",
              "\n",
              "  .colab-df-quickchart:hover {\n",
              "    background-color: #E2EBFA;\n",
              "    box-shadow: 0px 1px 2px rgba(60, 64, 67, 0.3), 0px 1px 3px 1px rgba(60, 64, 67, 0.15);\n",
              "    fill: #174EA6;\n",
              "  }\n",
              "\n",
              "  [theme=dark] .colab-df-quickchart {\n",
              "    background-color: #3B4455;\n",
              "    fill: #D2E3FC;\n",
              "  }\n",
              "\n",
              "  [theme=dark] .colab-df-quickchart:hover {\n",
              "    background-color: #434B5C;\n",
              "    box-shadow: 0px 1px 3px 1px rgba(0, 0, 0, 0.15);\n",
              "    filter: drop-shadow(0px 1px 2px rgba(0, 0, 0, 0.3));\n",
              "    fill: #FFFFFF;\n",
              "  }\n",
              "</style>\n",
              "\n",
              "    <script>\n",
              "      async function quickchart(key) {\n",
              "        const containerElement = document.querySelector('#' + key);\n",
              "        const charts = await google.colab.kernel.invokeFunction(\n",
              "            'suggestCharts', [key], {});\n",
              "      }\n",
              "    </script>\n",
              "\n",
              "      <script>\n",
              "\n",
              "function displayQuickchartButton(domScope) {\n",
              "  let quickchartButtonEl =\n",
              "    domScope.querySelector('#df-3a3827cf-5b23-4da2-b496-9b63be1436b9 button.colab-df-quickchart');\n",
              "  quickchartButtonEl.style.display =\n",
              "    google.colab.kernel.accessAllowed ? 'block' : 'none';\n",
              "}\n",
              "\n",
              "        displayQuickchartButton(document);\n",
              "      </script>\n",
              "      <style>\n",
              "    .colab-df-container {\n",
              "      display:flex;\n",
              "      flex-wrap:wrap;\n",
              "      gap: 12px;\n",
              "    }\n",
              "\n",
              "    .colab-df-convert {\n",
              "      background-color: #E8F0FE;\n",
              "      border: none;\n",
              "      border-radius: 50%;\n",
              "      cursor: pointer;\n",
              "      display: none;\n",
              "      fill: #1967D2;\n",
              "      height: 32px;\n",
              "      padding: 0 0 0 0;\n",
              "      width: 32px;\n",
              "    }\n",
              "\n",
              "    .colab-df-convert:hover {\n",
              "      background-color: #E2EBFA;\n",
              "      box-shadow: 0px 1px 2px rgba(60, 64, 67, 0.3), 0px 1px 3px 1px rgba(60, 64, 67, 0.15);\n",
              "      fill: #174EA6;\n",
              "    }\n",
              "\n",
              "    [theme=dark] .colab-df-convert {\n",
              "      background-color: #3B4455;\n",
              "      fill: #D2E3FC;\n",
              "    }\n",
              "\n",
              "    [theme=dark] .colab-df-convert:hover {\n",
              "      background-color: #434B5C;\n",
              "      box-shadow: 0px 1px 3px 1px rgba(0, 0, 0, 0.15);\n",
              "      filter: drop-shadow(0px 1px 2px rgba(0, 0, 0, 0.3));\n",
              "      fill: #FFFFFF;\n",
              "    }\n",
              "  </style>\n",
              "\n",
              "      <script>\n",
              "        const buttonEl =\n",
              "          document.querySelector('#df-89a09842-8a72-4ff2-93aa-6ac32984f403 button.colab-df-convert');\n",
              "        buttonEl.style.display =\n",
              "          google.colab.kernel.accessAllowed ? 'block' : 'none';\n",
              "\n",
              "        async function convertToInteractive(key) {\n",
              "          const element = document.querySelector('#df-89a09842-8a72-4ff2-93aa-6ac32984f403');\n",
              "          const dataTable =\n",
              "            await google.colab.kernel.invokeFunction('convertToInteractive',\n",
              "                                                     [key], {});\n",
              "          if (!dataTable) return;\n",
              "\n",
              "          const docLinkHtml = 'Like what you see? Visit the ' +\n",
              "            '<a target=\"_blank\" href=https://colab.research.google.com/notebooks/data_table.ipynb>data table notebook</a>'\n",
              "            + ' to learn more about interactive tables.';\n",
              "          element.innerHTML = '';\n",
              "          dataTable['output_type'] = 'display_data';\n",
              "          await google.colab.output.renderOutput(dataTable, element);\n",
              "          const docLink = document.createElement('div');\n",
              "          docLink.innerHTML = docLinkHtml;\n",
              "          element.appendChild(docLink);\n",
              "        }\n",
              "      </script>\n",
              "    </div>\n",
              "  </div>\n"
            ]
          },
          "metadata": {},
          "execution_count": 8
        }
      ]
    },
    {
      "source": [
        "import numpy as np\n",
        "from google.colab import autoviz\n",
        "df_2894648159842276395 = autoviz.get_df('df_2894648159842276395')\n",
        "\n",
        "def value_plot(df, y, sort_ascending=False, figsize=(2, 1)):\n",
        "  from matplotlib import pyplot as plt\n",
        "  if sort_ascending:\n",
        "    df = df.sort_values(y).reset_index(drop=True)\n",
        "  _, ax = plt.subplots(figsize=figsize)\n",
        "  df[y].plot(kind='line')\n",
        "  plt.title(y)\n",
        "  ax.spines[['top', 'right',]].set_visible(False)\n",
        "  plt.tight_layout()\n",
        "  return autoviz.MplChart.from_current_mpl_state()\n",
        "\n",
        "chart = value_plot(df_2894648159842276395, *['Col3'], **{})\n",
        "chart"
      ],
      "cell_type": "code",
      "metadata": {
        "colab": {
          "base_uri": "https://localhost:8080/",
          "height": 110
        },
        "id": "XaqZRhzDbNiL",
        "outputId": "ac19813a-23f1-413c-ee73-822c41bc5ba1"
      },
      "execution_count": null,
      "outputs": [
        {
          "output_type": "execute_result",
          "data": {
            "text/html": [
              "<img src=\"data:image/png;base64,iVBORw0KGgoAAAANSUhEUgAAAL8AAABZCAYAAABv9/WZAAAAOXRFWHRTb2Z0d2FyZQBNYXRwbG90\n",
              "bGliIHZlcnNpb24zLjcuMSwgaHR0cHM6Ly9tYXRwbG90bGliLm9yZy/bCgiHAAAACXBIWXMAAA9h\n",
              "AAAPYQGoP6dpAAARkUlEQVR4nO2deVBT19vHvwkkQQMBlSULIgo/BJdS0KIOVsBx+1kXRFymMxWZ\n",
              "2uky8jLu1WmLTsf6Vt+xONrWOrWtTqt2qGjr69JR61ILLy4kPwsKRrSUJSCCZMFAgjzvH0g0JQoB\n",
              "kiD3fGbuOJ577jnnId88ec65z7mXR0QEBoOD8F09AAbDVTDxMzgLEz+DszDxMzgLEz+DszDxMzgL\n",
              "Ez+DszDxMzgLEz+DszDxv0DEx8cjPj7e1cPoMzDxO5iSkhK8/fbbGDZsGDw8PCCRSBAbG4sdO3bA\n",
              "aDR2q22j0Yg333wTo0aNgre3Nzw9PREZGYkdO3bAbDb3kAV9F3dXD6Avc/z4cSxYsAAikQhLlizB\n",
              "qFGjYDKZcOnSJaxZswaFhYXYs2dPl9s3Go0oLCzEzJkzERwcDD6fj5ycHKxYsQJ5eXk4cOBAD1rT\n",
              "ByGGQ7hz5w55enpSeHg4VVZWtjuvVqspMzPTrjbj4uIoLi6uw3rLly8nAKTRaOxqn2uwsMdBbN26\n",
              "FQaDAXv37oVMJmt3PjQ0FOnp6QCA5uZmfPzxxwgJCYFIJEJwcDA2bNiApqamLvUdHBwMAKivr+/q\n",
              "8DkBj4ilNDuCwMBAiEQilJSUdFh36dKl2LdvH5KTk5GQkIC8vDzs378fiYmJOHLkiKVe22T3/Pnz\n",
              "VtebTCbodDoYjUZcvXoV7733HkQiEW7fvg13dxbZPhNX//T0RbRaLQGguXPndlhXpVIRAFq2bJlV\n",
              "+erVqwkA/fbbb5ayZ4U9Bw8eJACWY+zYsXT9+vXumtHnYWGPA9DpdAAALy+vDuueOHECALBy5Uqr\n",
              "8lWrVgFonTR3REJCAk6fPo2srCy88847EAgEaGhosHfYnIP9JjoAiUQCANDr9R3WLS0tBZ/PR2ho\n",
              "qFW5VCqFj48PSktLO2wjICAAAQEBAIDk5GR88sknmDp1KtRqNaRSaRcs4AbM8zsAiUQCuVyOgoKC\n",
              "Tl/D4/F6rP/k5GQYDAb8/PPPPdZmX4SJ30HMmjULJSUlyM3NfW69IUOGoKWlBWq12qq8uroa9fX1\n",
              "GDJkiN19t90802q1dl/LJZj4HcTatWshFouxbNkyVFdXtztfUlKCHTt2YObMmQCAzMxMq/Pbt28H\n",
              "ALz22mvP7OP+/fsgG4t1X3/9NQBg7NixXR0+J2Axv4MICQnBgQMHsGjRIkRERFjd4c3JyUFWVhaW\n",
              "Ll2K9PR0pKSkYM+ePaivr0dcXBwuX76Mffv2ITExEQkJCc/s4/vvv8fu3buRmJiIYcOGQa/X49df\n",
              "f8Xp06cxe/ZsTJ482YkWv4C4ermpr3Pr1i166623KDg4mIRCIXl5eVFsbCzt3LmTGhsbiYjIbDbT\n",
              "pk2baOjQoSQQCGjw4MG0fv16y/k2/rnUeeXKFVqwYAEFBQWRSCQisVhM0dHRtH37djKbzc4084WE\n",
              "3eRicBYW8zM4CxM/g7Mw8TM4CxM/g7Mw8TM4S68TPxFBp9PZvHnDYPQkve4ml16vh7e3N7RarSVB\n",
              "jCvoG80oqtKjSKNDSU0DQv09MeslGXz6C109tD5Jr1vn1+l0fV78LS2EsgcPcVOjw02NvvXfKh3K\n",
              "6tpvaBe68TE53B9J0QrED/eH0L3X/Vi/sNgl/o0bN2LTpk1WZcOHD0dRUREAoLGxEatWrcKhQ4fQ\n",
              "1NSE6dOn44svvrCk23aGvib+hqZmFFU9FrhGZ/HsDaZHNuvLvD0QIZMgeJAYuXdqcVOjs5wb0F+A\n",
              "2ZFyJEUHIjLQu0czQbmI3WHPyJEjcebMmScNPLVNbsWKFTh+/DiysrLg7e2N5cuXIykpCX/88UfP\n",
              "jLYXQ0Qof2C08uZFVTqU1j2ELfcidOcjLMATEVIJImStR7jUCwPE1iHOTY0OR5QVOKqswD19E/bn\n",
              "lmJ/bimG+YqRFK1AYpQCgQP6O8nKvoXdnv/o0aNQqVTtzmm1Wvj5+eHAgQNITk4GABQVFSEiIgK5\n",
              "ubkYP368zTabmpqsNmrrdDoMHjy4V3t+o+kRiqufePObGh2KNHrom5pt1g+QiBBuEbkXRsgkGOor\n",
              "hrtb50OYRy2EP27fR3Z+OX4trIbR/OSXY9zQgZgfHYh/j5bCy0PQbfu4gt2eX61WQy6Xw8PDAxMm\n",
              "TMCWLVsQFBSEa9euwWw2Y8qUKZa64eHhCAoKeq74t2zZ0i6U6i0QESq1jSiyiLxV8HdrG2x7czc+\n",
              "Qv09Ef5Y4G3efJCnqNtjcePzMCnMD5PC/GBoasapgiocUZYjp6QWeXfrkHe3Dh/+XIBpI6VIilLg\n",
              "1X/52vXl4iJ2ef6TJ0/CYDBg+PDh0Gg02LRpEyoqKlBQUIBjx44hNTW13eM2YmJikJCQgE8//dRm\n",
              "m73F8zeaH+FWtR5FGj1uPBWfa422n3zm6ymyePFwmRciZBKE+HlC4GTBVdYbcVRVgSP5FVDfM1iN\n",
              "b06kHEnRCoyUS9j8wAbdWu1p22m0fft29OvXr0vi/yeOnvASEap1Tbip0eHGY4Hf1Ohwp8aAFht/\n",
              "CXc+D6H+npaQpS188fPqvjfvSYgIBRU6ZCvL8YuqErUNJsu54QFemBetQOLLCki9PVw4yt5Ft9b5\n",
              "fXx8EBYWhtu3b2Pq1KkwmUyor6+Hj4+PpU51dbXLNlE3NT+CutpgCVmKqlo9+oOHtr35QLEQETIv\n",
              "yyQ0XOaFUH9PiNzdnDxy++HxeBgd6I3Rgd7YMDMCv6trcDi/AqdvVKO4Wo//PlmET08VITbEF0nR\n",
              "CkwfKYVY1Otu8ziVbllvMBhQUlKCN954A2PGjIFAIMDZs2cxf/58AEBxcTH+/vtvTJgwoUcG+zzu\n",
              "6RufrJk/noCW1BjQbMOdu/F5GOYrtqyytIUvfl6iPhEeCNz4mBwegMnhAdAazTj5pwbZ+RW4/Fcd\n",
              "Lt2+j0u376O/sAAzRkqRFB2ICSGD4MZ/8e22F7vCntWrV2P27NkYMmQIKisrkZGRAZVKhRs3bsDP\n",
              "zw/vvvsuTpw4ge+++w4SiQRpaWkAgJycnE4PqKOwx9TcgpIaw1MrLa0e/b7BZKM1wKe/ABHSJ3H5\n",
              "CJkEof6e8BD0fm/e05TVPcQRZQWy88vxV+1DS3mARITEKAWSogIxXNrxs4b6CnaJf/Hixbh48SJq\n",
              "a2vh5+eHiRMnYvPmzQgJCQHw5CbXwYMHrW5y2RP22BI/EWF11nUUVmpRUmOA+VH7IfN5wFBfMcIf\n",
              "CzzisdilEo8+4c17EiKCsqwe2fnlOPYfjdWkfqRcgnlRCsx9WdHr5jU9zQuT3pDwP+dx937rU8i8\n",
              "PNwtXjxc2irysAAv9BNyz5t3l6bmRzhXVIPs/HKcK75ncSxufB4m/csX86IDMW1EQJ/8pXxhxH/i\n",
              "Tw0EbnxEyLyg8OnHvLkDeNBgwv9er0S2sgLKv+st5V4id8wcLcO8aAViggeC30fmBy+M+BnO5U6N\n",
              "AUeVFchWVqD8wZOEO4VPP8yLUmBetAIhfp4uHGH3YeJnPJeWFsLV0gfIzi/H8esaqxSOyME+mB+t\n",
              "wKyX5BgofvHSrpn4GZ2m0fwIZ25WIzu/Ahdu1eDR42VkgRsP8cP9MT9agYRw/xfivgjAxM/oIjX6\n",
              "Jhz7TyWyleUoqHiSdu3dT4BZL8mQFK1AdNCAXj03Y+JndJtb1Xpk57emXVfpGi3lQwb1R1JUIOZF\n",
              "KRA0qPelXTPxM3qMRy2E/7tTi8P55ThVUIWHT23YeSV4AOZFBeK1l2Tw7tc70q4dJv7PP/8c27Zt\n",
              "Q1VVFSIjI7Fz507ExMR0eB0Tf9/goakZvxZWITu/An/cvm9JGhS68zElwh9JUYGIG+7n9CzYp3GI\n",
              "+H/88UcsWbIEu3fvxrhx45CZmYmsrCwUFxfD39//udcy8fc9qnWN+FlVgcPXKlBc/eRtNQPFQkva\n",
              "9WiF87dlOkT848aNwyuvvIJdu3YBAFpaWjB48GCkpaXh/ffft6rbW/L5GY6HiHBDo8OR/AocVVXi\n",
              "vuHJ5x7iJ8b6f0dgyojO7/fuLj2e02oymXDt2jWsX7/eUsbn8zFlyhSbbyl51k6utpe6MfoWgz15\n",
              "+K9JgXgvVo7cO7U4pqrE2eJ7UJc/hLkxyObn7uXl5ZhfhZ5+5nlFRQUBoJycHKvyNWvWUExMTLv6\n",
              "jY2NpNVqLceNGzesXqvJDnZotdqelikREbl8N4NIJIJI9CR70NPTE2VlZe2+7W3hUFlZGSfCIS7Z\n",
              "25GtnXmla1focfH7+vrCzc2t3XuoOruji8/nIzAw8JnnJRJJnxfD03DJXmfb2uPrTEKhEGPGjMHZ\n",
              "s2ctZS0tLTh79qxTdnQxGJ3FIWHPypUrkZKSgrFjxyImJgaZmZloaGhAamqqI7pjMLqEQ8S/aNEi\n",
              "1NTU4KOPPkJVVRVefvllnDp1yq7HFv4TkUiEjIwMq/lBX4ZL9rrK1l6X3sBgOAv2SC8GZ2HiZ3AW\n",
              "Jn4GZ2HiZ3AWJn4GZ3Ga+JcuXQoejwcejweBQIChQ4di7dq1aGxs7PjiLpCdnY1p06Zh0KBB4PF4\n",
              "Nt8p4CicaavZbMa6deswevRoiMViyOVyLFmyBJWVlT3e17Nw9me7ceNGhIeHQywWY8CAAZgyZQry\n",
              "8vLsbsepnn/GjBnQaDS4c+cOPvvsM3z11VfIyMhwSF8NDQ2YOHFip58O3dM4y9aHDx8iPz8fH374\n",
              "IfLz85GdnY3i4mLMmTOnx/t6Hs78bMPCwrBr1y78+eefuHTpEoKDgzFt2jTU1NTY15BD0uVskJKS\n",
              "QnPnzrUqS0pKoqioKCJqze5MS0sjPz8/EolEFBsbS5cvX7bUHTNmDG3bts3y/7lz55K7uzvp9Xoi\n",
              "IiorKyMApFarrfq4e/cuASClUukYw2zgKlvbuHz5MgGg0tLSHrbMNq62V6vVEgA6c+aMXeN2Wcxf\n",
              "UFCAnJwcCIWtz3tZu3YtDh8+jH379iE/Px+hoaGYPn066urqAABxcXE4f/48AICI8Pvvv8PHxweX\n",
              "Ll0CAFy4cAEKhQKhoaEused5ONtWrVYLHo9n9ah4Z+JMe00mE/bs2QNvb29ERkbaN1C7virdICUl\n",
              "hdzc3EgsFpNIJCIAxOfz6aeffiKDwUACgYB++OEHS32TyURyuZy2bt1KRES//PILeXt7U3NzM6lU\n",
              "KpJKpZSenk7r1q0jIqJly5bR66+/3q5fV3l+V9hKRGQ0Gik6OvqZ5x2BK+w9duwYicVi4vF4JJfL\n",
              "rX5JOotTPX9CQgJUKhXy8vKQkpKC1NRUzJ8/HyUlJTCbzYiNjbXUFQgEiImJwc2bNwEAr776KvR6\n",
              "PZRKJS5cuIC4uDjEx8dbPMaFCxcQHx/vTHOeiytsNZvNWLhwIYgIX375pTPMtOBse9v6y8nJwYwZ\n",
              "M7Bw4ULcu3fPrjE7VfxisRihoaGIjIzEN998g7y8POzdu7dT1/r4+CAyMhLnz5+3/DEmTZoEpVKJ\n",
              "W7duQa1WIy4uzsEWdB5n29om/NLSUpw+fdrpewCcbW9bf+PHj8fevXvh7u7e6f7acFnMz+fzsWHD\n",
              "BnzwwQcICQmBUCi0el+v2WzGlStXMGLECEtZXFwczp07h4sXLyI+Ph4DBw5EREQENm/eDJlMhrCw\n",
              "MFeY0iGOtrVN+Gq1GmfOnMGgQYOcat8/ccVn29LS0u59cB3S9UjPPmytCJjNZlIoFLRt2zZKT08n\n",
              "uVxOJ0+epMLCQkpJSaEBAwZQXV2dpf7Ro0fJzc2NpFKppSw9PZ3c3Nxo8eLFVm3X1taSUqmk48eP\n",
              "EwA6dOgQKZVK0mg0DrWTyLm2mkwmmjNnDgUGBpJKpSKNRmM5mpqaHG4rkXPtNRgMtH79esrNzaW/\n",
              "/vqLrl69SqmpqSQSiaigoMCucbtU/EREW7ZsIT8/PzIYDJSWlka+vr42l8OIWgXN4/Fo0aJFlrIj\n",
              "R44QANq9e7dV3W+//dbmZuiMjAxHmGeFM21tm9DbOs6dO+coE61wpr1Go5HmzZtHcrmchEIhyWQy\n",
              "mjNnTpcmvCyfn8FZWG4Pg7Mw8TM4CxM/g7Mw8TM4CxM/g7Mw8TM4CxM/g7Mw8TM4CxM/g7Mw8TM4\n",
              "CxM/g7P8P2Nn6roR4BWTAAAAAElFTkSuQmCC\n",
              "\">\n",
              "        <script></script>"
            ],
            "text/plain": [
              "<google.colab._quickchart_lib.MplChart at 0x7882efcf7160>"
            ]
          },
          "metadata": {},
          "execution_count": 5
        }
      ]
    }
  ]
}