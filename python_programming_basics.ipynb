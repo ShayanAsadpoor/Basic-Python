{
  "nbformat": 4,
  "nbformat_minor": 0,
  "metadata": {
    "colab": {
      "provenance": []
    },
    "kernelspec": {
      "name": "python3",
      "display_name": "Python 3"
    },
    "language_info": {
      "name": "python"
    }
  },
  "cells": [
    {
      "cell_type": "code",
      "execution_count": null,
      "metadata": {
        "id": "c_DFYuYMiEmd"
      },
      "outputs": [],
      "source": [
        "import torch\n",
        "import torch.nn as nn\n",
        "from sklearn.datasets import load_iris"
      ]
    },
    {
      "cell_type": "code",
      "source": [
        "from sklearn.model_selection import train_test_split\n"
      ],
      "metadata": {
        "id": "Dix08mtIiX0h"
      },
      "execution_count": null,
      "outputs": []
    },
    {
      "cell_type": "code",
      "source": [
        "iris = load_iris()\n",
        "x = iris.data\n",
        "y = iris.target\n",
        "x = torch.Tensor(x)\n",
        "y = torch.LongTensor(y)\n",
        "x_train, x_test, y_train, y_test = train_test_split(x, y, test_size=0.3, random_state=1, shuffle=True)"
      ],
      "metadata": {
        "id": "Xjkhn4KSijmo"
      },
      "execution_count": null,
      "outputs": []
    },
    {
      "cell_type": "code",
      "source": [
        "import matplotlib.pyplot as plt\n"
      ],
      "metadata": {
        "id": "Sono2ypIjo33"
      },
      "execution_count": null,
      "outputs": []
    },
    {
      "cell_type": "code",
      "source": [
        "class My_model(nn.Module):\n",
        "  def __init__(self):\n",
        "      super(My_model, self).__init__()\n",
        "      self.f1 = nn.Linear(4, 16)\n",
        "      self.relu1 = nn.ReLU()\n",
        "      self.f2 = nn.Linear(16, 8)\n",
        "      self.relu2 = nn.ReLU()\n",
        "      self.f3 =nn.Linear(8, 3)\n",
        "\n",
        "  def forward(self, x):\n",
        "    x = self.f1(x)\n",
        "    x = self.relu1(x)\n",
        "    x = self.f2(x)\n",
        "    x = self.relu2(x)\n",
        "    x = self.f3(x)\n",
        "\n",
        "    return x\n",
        "\n",
        "\n",
        "model = My_model()\n",
        "criterion = nn.CrossEntropyLoss()\n",
        "optimizer = torch.optim.Adam(model.parameters(), lr=0.01)\n",
        "epoch = 10\n",
        "train_loss = []\n",
        "for i in range(epoch):\n",
        "  optimizer.zero_grad()\n",
        "  pred = model(x_train)\n",
        "  loss = criterion(pred, y_train)\n",
        "  loss.backward()\n",
        "  optimizer.step()\n",
        "\n",
        "  print(f'epoch:{i} loss= {loss.item():.3f}')\n",
        "  train_loss.append(loss.item())\n",
        "\n",
        "\n",
        "with torch.no_grad():\n",
        "  model.eval()\n",
        "  y_hat = model.forward(x_test)\n",
        "  loss = criterion(y_hat, y_test)\n",
        "\n",
        "print(loss)"
      ],
      "metadata": {
        "colab": {
          "base_uri": "https://localhost:8080/"
        },
        "id": "x4Gwi9DTjwkc",
        "outputId": "c380ddda-a980-4154-d086-d81f3d09ecb1"
      },
      "execution_count": null,
      "outputs": [
        {
          "output_type": "stream",
          "name": "stdout",
          "text": [
            "epoch:0 loss= 1.273\n",
            "epoch:1 loss= 1.132\n",
            "epoch:2 loss= 1.035\n",
            "epoch:3 loss= 0.960\n",
            "epoch:4 loss= 0.898\n",
            "epoch:5 loss= 0.848\n",
            "epoch:6 loss= 0.806\n",
            "epoch:7 loss= 0.767\n",
            "epoch:8 loss= 0.731\n",
            "epoch:9 loss= 0.699\n",
            "tensor(0.7083)\n"
          ]
        }
      ]
    },
    {
      "cell_type": "code",
      "source": [
        "correct = 0\n",
        "\n",
        "with torch.no_grad():\n",
        "  for i, data in enumerate(x_test):\n",
        "    y_hat = model(data)\n",
        "    print(f\"{i + 1} \\t {y_hat}, \\t {y_test[i]}\")\n",
        "\n",
        "    if y_hat.argmax().item() == y_test[i]:\n",
        "      correct += 1\n",
        "print(f\"number of correct predict is {correct}\")"
      ],
      "metadata": {
        "colab": {
          "base_uri": "https://localhost:8080/"
        },
        "id": "f1qHsEbulxqO",
        "outputId": "b3448ad1-da55-4e78-89e1-dfea3d070e06"
      },
      "execution_count": null,
      "outputs": [
        {
          "output_type": "stream",
          "name": "stdout",
          "text": [
            "1 \t tensor([ 1.0794, -1.8986, -1.1596]), \t 0\n",
            "2 \t tensor([-0.4050, -0.5190, -0.0877]), \t 1\n",
            "3 \t tensor([-0.7016, -0.3799,  0.0564]), \t 1\n",
            "4 \t tensor([ 0.8869, -1.7153, -1.0125]), \t 0\n",
            "5 \t tensor([-1.1531, -0.1218,  0.3816]), \t 2\n",
            "6 \t tensor([-0.8363, -0.2692,  0.1748]), \t 1\n",
            "7 \t tensor([-1.0763, -0.1128,  0.3471]), \t 2\n",
            "8 \t tensor([ 0.5522, -1.4005, -0.7696]), \t 0\n",
            "9 \t tensor([ 0.5279, -1.3101, -0.7263]), \t 0\n",
            "10 \t tensor([-1.1403, -0.0978,  0.4227]), \t 2\n",
            "11 \t tensor([-0.8032, -0.2023,  0.1968]), \t 1\n",
            "12 \t tensor([ 0.7170, -1.5652, -0.8940]), \t 0\n",
            "13 \t tensor([-1.1391, -0.0970,  0.4222]), \t 2\n",
            "14 \t tensor([-0.7559, -0.3370,  0.1017]), \t 1\n",
            "15 \t tensor([-0.8593, -0.1979,  0.2195]), \t 1\n",
            "16 \t tensor([ 0.5963, -1.3586, -0.7676]), \t 0\n",
            "17 \t tensor([-0.7040, -0.2974,  0.1024]), \t 1\n",
            "18 \t tensor([-0.8848, -0.1580,  0.2621]), \t 1\n",
            "19 \t tensor([ 0.6948, -1.5117, -0.8656]), \t 0\n",
            "20 \t tensor([ 0.7561, -1.5241, -0.8925]), \t 0\n",
            "21 \t tensor([-0.8727, -0.1183,  0.2713]), \t 1\n",
            "22 \t tensor([-0.9056, -0.1243,  0.2937]), \t 1\n",
            "23 \t tensor([-0.9622, -0.1579,  0.2733]), \t 1\n",
            "24 \t tensor([ 0.7513, -1.5458, -0.8971]), \t 0\n",
            "25 \t tensor([-1.1068, -0.1067,  0.3900]), \t 2\n",
            "26 \t tensor([-0.7395, -0.2754,  0.1321]), \t 1\n",
            "27 \t tensor([ 0.9756, -1.8099, -1.0878]), \t 0\n",
            "28 \t tensor([ 0.7472, -1.5680, -0.9063]), \t 0\n",
            "29 \t tensor([-0.8612, -0.1725,  0.2309]), \t 1\n",
            "30 \t tensor([-1.0444, -0.0926,  0.3737]), \t 2\n",
            "31 \t tensor([-0.8382, -0.2223,  0.1983]), \t 1\n",
            "32 \t tensor([-1.1842, -0.1015,  0.4247]), \t 2\n",
            "33 \t tensor([-0.6911, -0.2857,  0.1051]), \t 1\n",
            "34 \t tensor([-1.1039, -0.0882,  0.4316]), \t 2\n",
            "35 \t tensor([-1.0858, -0.0839,  0.4331]), \t 2\n",
            "36 \t tensor([ 0.7917, -1.6029, -0.9388]), \t 0\n",
            "37 \t tensor([-0.8261, -0.1482,  0.2281]), \t 1\n",
            "38 \t tensor([ 0.7528, -1.5429, -0.9000]), \t 0\n",
            "39 \t tensor([-0.8523, -0.2222,  0.1919]), \t 1\n",
            "40 \t tensor([-1.0880, -0.0919,  0.4147]), \t 2\n",
            "41 \t tensor([-1.1038, -0.0990,  0.3968]), \t 2\n",
            "42 \t tensor([ 0.7287, -1.5296, -0.8834]), \t 0\n",
            "43 \t tensor([-0.9914, -0.0903,  0.3624]), \t 2\n",
            "44 \t tensor([-1.0735, -0.0907,  0.4155]), \t 2\n",
            "45 \t tensor([-0.7715, -0.2991,  0.1202]), \t 1\n",
            "number of correct predict is 27\n"
          ]
        }
      ]
    }
  ]
}